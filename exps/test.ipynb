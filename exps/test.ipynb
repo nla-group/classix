{
 "cells": [
  {
   "cell_type": "code",
   "execution_count": 2,
   "id": "eb8c08ed-998b-4726-a185-3ac000eac8cf",
   "metadata": {},
   "outputs": [],
   "source": [
    "import classix\n",
    "import unittest\n",
    "import numpy as np\n",
    "import pandas as pd\n",
    "import sklearn.datasets as data\n",
    "from classix import CLASSIX, loadData, cython_is_available\n",
    "from classix.clustering import calculate_cluster_centers\n",
    "from classix import preprocessing\n",
    "from classix import aggregate, aggregate_c, aggregate_cm\n",
    "from classix.merge import distance_merge_mtg, distance_merge, density_merge\n",
    "import platform\n",
    "\n",
    "if platform.system() == 'Windows':\n",
    "    from classix.merge_cm_win import distance_merge as distance_merge_cm\n",
    "    from classix.merge_cm_win import density_merge as density_merge_cm\n",
    "else:\n",
    "    from classix.merge_cm import distance_merge as distance_merge_cm\n",
    "    from classix.merge_cm import density_merge as density_merge_cm\n",
    "\n",
    "from sklearn.metrics.cluster import adjusted_rand_score\n",
    "\n"
   ]
  },
  {
   "cell_type": "code",
   "execution_count": 5,
   "id": "b9dcd659-451b-4801-9d2f-4c596d65e0df",
   "metadata": {},
   "outputs": [
    {
     "name": "stderr",
     "output_type": "stream",
     "text": [
      "/home/chenxinye/classix/classix/clustering.py:180: UserWarning: Invalid dataset identifier.\n",
      "  warnings.warn(\"Invalid dataset identifier.\")\n"
     ]
    }
   ],
   "source": [
    "\n",
    "for dn in ['vdu_signals', 'Iris', 'Dermatology', 'Ecoli', 'Glass', 'Banknote', 'Seeds',\n",
    "           'Phoneme', 'Wine', 'NA']:\n",
    "    loadData(name=dn)"
   ]
  },
  {
   "cell_type": "code",
   "execution_count": null,
   "id": "95a6b713-21bf-4789-b63c-00c5623385e6",
   "metadata": {},
   "outputs": [],
   "source": []
  }
 ],
 "metadata": {
  "kernelspec": {
   "display_name": "Python 3 (ipykernel)",
   "language": "python",
   "name": "python3"
  },
  "language_info": {
   "codemirror_mode": {
    "name": "ipython",
    "version": 3
   },
   "file_extension": ".py",
   "mimetype": "text/x-python",
   "name": "python",
   "nbconvert_exporter": "python",
   "pygments_lexer": "ipython3",
   "version": "3.12.4"
  }
 },
 "nbformat": 4,
 "nbformat_minor": 5
}

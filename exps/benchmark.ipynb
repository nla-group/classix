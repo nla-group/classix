{
 "cells": [
  {
   "cell_type": "code",
   "execution_count": 37,
   "id": "a92b6312-9156-4ee4-b37d-93c1f0785a4a",
   "metadata": {},
   "outputs": [],
   "source": [
    "#!pip uninstall classixclustering --break-system-packagesy\n",
    "#!pip install classixclustering==1.0.5 --break-system-packages"
   ]
  },
  {
   "cell_type": "code",
   "execution_count": 1,
   "id": "f62ad718-e64d-42a3-b0ed-ead47063a7c4",
   "metadata": {},
   "outputs": [
    {
     "name": "stdout",
     "output_type": "stream",
     "text": [
      "Benchmark 2024-03-15 05:55:02\n",
      "Host      minerva.it.manchester.ac.uk\n",
      "CLASSIX   1.2.4 \n",
      "\n",
      "  warm-up       3.661 seconds\n",
      "  vdu_signals   3.589 seconds\n",
      "  blobs         0.538 seconds (ARI 1.000)\n",
      "  Phoneme      12.351 seconds (ARI 0.765)\n",
      "  Covid3MC     23.381 seconds (ARI 0.474)\n"
     ]
    }
   ],
   "source": [
    "import classix\n",
    "from sklearn.metrics import adjusted_rand_score as ari\n",
    "from sklearn.metrics import adjusted_mutual_info_score as ami\n",
    "from sklearn.preprocessing import MinMaxScaler\n",
    "from threadpoolctl import threadpool_limits\n",
    "from sklearn.datasets import make_blobs\n",
    "from time import time\n",
    "from datetime import datetime\n",
    "import pandas as pd\n",
    "import numpy as np\n",
    "import socket\n",
    "\n",
    "print(\"Benchmark\", datetime.today().strftime('%Y-%m-%d %H:%M:%S'))\n",
    "print(\"Host     \", socket.gethostname())\n",
    "print(\"CLASSIX  \", classix.__version__, \"\\n\")\n",
    "\n",
    "# warm-up\n",
    "X = classix.loadData('vdu_signals')\n",
    "st = time()\n",
    "clx = classix.CLASSIX(radius=0.4, minPts=6, verbose=0);\n",
    "clx.fit(X)\n",
    "et = time() - st\n",
    "print(\"  {:12} {:6.3f} seconds\".format('warm-up',et))\n",
    "\n",
    "# vdu_signals\n",
    "X = classix.loadData('vdu_signals')\n",
    "st = time()\n",
    "clx = classix.CLASSIX(radius=0.4, minPts=6, verbose=0);\n",
    "clx.fit(X)\n",
    "et = time() - st\n",
    "print(\"  {:12} {:6.3f} seconds\".format('vdu_signals',et))\n",
    "\n",
    "# blobs\n",
    "X, y = make_blobs(n_samples=20000, centers=5, n_features=5, random_state=42)\n",
    "st = time()\n",
    "clx = classix.CLASSIX(radius=0.17, verbose=0);\n",
    "clx.fit(X)\n",
    "et = time() - st\n",
    "print(\"  {:12} {:6.3f} seconds (ARI {:5.3f})\".format('blobs',et,ari(y,clx.labels_)))\n",
    "\n",
    "# Phoneme\n",
    "X, y = classix.loadData('Phoneme')\n",
    "st = time()\n",
    "clx = classix.CLASSIX(radius=0.43, minPts=4, verbose=0);\n",
    "clx.fit(X)\n",
    "et = time() - st\n",
    "print(\"  {:12} {:6.3f} seconds (ARI {:5.3f})\".format('Phoneme',et,ari(y,clx.labels_)))\n",
    "\n",
    "# Covid3MC\n",
    "X, y = classix.loadData('Covid3MC') # alternatively, try 'CovidENV'\n",
    "# min-max scale data and center data as in\n",
    "# https://github.com/robcah/dimredcovid19/blob/main/Dimensionality_Reduction_Covid19.ipynb\n",
    "X[['PaCMAP_0','PaCMAP_1','PaCMAP_2']] = MinMaxScaler().fit_transform(X)-0.5\n",
    "st = time()\n",
    "clx = classix.CLASSIX(radius=0.2, minPts=500, verbose=0);\n",
    "clx.fit(X)\n",
    "et = time() - st\n",
    "print(\"  {:12} {:6.3f} seconds (ARI {:5.3f})\".format('Covid3MC',et,ari(y,clx.labels_)))"
   ]
  },
  {
   "cell_type": "raw",
   "id": "261b95af-ad45-46eb-b706-f285e81b0828",
   "metadata": {},
   "source": [
    "Benchmark 2024-03-15 05:52:30\n",
    "Host      minerva.it.manchester.ac.uk\n",
    "CLASSIX   1.0.5 \n",
    "\n",
    "  warm-up       2.031 seconds\n",
    "  vdu_signals   2.060 seconds\n",
    "  blobs         0.227 seconds (ARI 1.000)\n",
    "  Phoneme      11.428 seconds (ARI 0.765)\n",
    "  Covid3MC     10.241 seconds (ARI 0.474)\n",
    "  \n",
    "Benchmark 2024-03-15 05:55:02\n",
    "Host      minerva.it.manchester.ac.uk\n",
    "CLASSIX   1.2.4 \n",
    "\n",
    "  warm-up       3.661 seconds\n",
    "  vdu_signals   3.589 seconds\n",
    "  blobs         0.538 seconds (ARI 1.000)\n",
    "  Phoneme      12.351 seconds (ARI 0.765)\n",
    "  Covid3MC     23.381 seconds (ARI 0.474)"
   ]
  }
 ],
 "metadata": {
  "kernelspec": {
   "display_name": "Python 3 (ipykernel)",
   "language": "python",
   "name": "python3"
  },
  "language_info": {
   "codemirror_mode": {
    "name": "ipython",
    "version": 3
   },
   "file_extension": ".py",
   "mimetype": "text/x-python",
   "name": "python",
   "nbconvert_exporter": "python",
   "pygments_lexer": "ipython3",
   "version": "3.11.2"
  }
 },
 "nbformat": 4,
 "nbformat_minor": 5
}
